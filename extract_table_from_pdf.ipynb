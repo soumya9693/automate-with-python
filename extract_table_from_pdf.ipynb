{
 "cells": [
  {
   "cell_type": "code",
   "execution_count": 1,
   "id": "15cfff5e-5ed2-4b5b-b360-c99ad6e652d2",
   "metadata": {},
   "outputs": [],
   "source": [
    "import pandas as pd"
   ]
  },
  {
   "cell_type": "code",
   "execution_count": 3,
   "id": "73abe710-39e8-4113-97f3-c667369c005b",
   "metadata": {},
   "outputs": [
    {
     "name": "stdout",
     "output_type": "stream",
     "text": [
      "Collecting camelot-py[cv]\n",
      "  Downloading camelot_py-1.0.9-py3-none-any.whl.metadata (9.8 kB)\n",
      "Collecting click>=8.0.1 (from camelot-py[cv])\n",
      "  Downloading click-8.2.1-py3-none-any.whl.metadata (2.5 kB)\n",
      "Collecting chardet>=5.1.0 (from camelot-py[cv])\n",
      "  Downloading chardet-5.2.0-py3-none-any.whl.metadata (3.4 kB)\n",
      "Requirement already satisfied: numpy>=1.26.1 in c:\\users\\kumar\\appdata\\local\\programs\\python\\python313\\lib\\site-packages (from camelot-py[cv]) (2.3.2)\n",
      "Requirement already satisfied: openpyxl>=3.1.0 in c:\\users\\kumar\\appdata\\local\\programs\\python\\python313\\lib\\site-packages (from camelot-py[cv]) (3.1.5)\n",
      "Collecting pdfminer-six>=20240706 (from camelot-py[cv])\n",
      "  Downloading pdfminer_six-20250506-py3-none-any.whl.metadata (4.2 kB)\n",
      "Collecting pypdf<6.0,>=4.0 (from camelot-py[cv])\n",
      "  Downloading pypdf-5.9.0-py3-none-any.whl.metadata (7.1 kB)\n",
      "Requirement already satisfied: pandas>=2.2.2 in c:\\users\\kumar\\appdata\\local\\programs\\python\\python313\\lib\\site-packages (from camelot-py[cv]) (2.3.1)\n",
      "Collecting tabulate>=0.9.0 (from camelot-py[cv])\n",
      "  Downloading tabulate-0.9.0-py3-none-any.whl.metadata (34 kB)\n",
      "Collecting opencv-python-headless>=4.7.0.68 (from camelot-py[cv])\n",
      "  Downloading opencv_python_headless-4.12.0.88-cp37-abi3-win_amd64.whl.metadata (20 kB)\n",
      "Collecting pypdfium2>=4 (from camelot-py[cv])\n",
      "  Downloading pypdfium2-4.30.0-py3-none-win_amd64.whl.metadata (48 kB)\n",
      "Collecting pillow>=10.4.0 (from camelot-py[cv])\n",
      "  Downloading pillow-11.3.0-cp313-cp313-win_amd64.whl.metadata (9.2 kB)\n",
      "Requirement already satisfied: colorama in c:\\users\\kumar\\appdata\\local\\programs\\python\\python313\\lib\\site-packages (from click>=8.0.1->camelot-py[cv]) (0.4.6)\n",
      "Collecting numpy>=1.26.1 (from camelot-py[cv])\n",
      "  Downloading numpy-2.2.6-cp313-cp313-win_amd64.whl.metadata (60 kB)\n",
      "Requirement already satisfied: et-xmlfile in c:\\users\\kumar\\appdata\\local\\programs\\python\\python313\\lib\\site-packages (from openpyxl>=3.1.0->camelot-py[cv]) (2.0.0)\n",
      "Requirement already satisfied: python-dateutil>=2.8.2 in c:\\users\\kumar\\appdata\\local\\programs\\python\\python313\\lib\\site-packages (from pandas>=2.2.2->camelot-py[cv]) (2.9.0.post0)\n",
      "Requirement already satisfied: pytz>=2020.1 in c:\\users\\kumar\\appdata\\local\\programs\\python\\python313\\lib\\site-packages (from pandas>=2.2.2->camelot-py[cv]) (2025.2)\n",
      "Requirement already satisfied: tzdata>=2022.7 in c:\\users\\kumar\\appdata\\local\\programs\\python\\python313\\lib\\site-packages (from pandas>=2.2.2->camelot-py[cv]) (2025.2)\n",
      "Requirement already satisfied: charset-normalizer>=2.0.0 in c:\\users\\kumar\\appdata\\local\\programs\\python\\python313\\lib\\site-packages (from pdfminer-six>=20240706->camelot-py[cv]) (3.4.3)\n",
      "Collecting cryptography>=36.0.0 (from pdfminer-six>=20240706->camelot-py[cv])\n",
      "  Downloading cryptography-45.0.6-cp311-abi3-win_amd64.whl.metadata (5.7 kB)\n",
      "Requirement already satisfied: cffi>=1.14 in c:\\users\\kumar\\appdata\\local\\programs\\python\\python313\\lib\\site-packages (from cryptography>=36.0.0->pdfminer-six>=20240706->camelot-py[cv]) (1.17.1)\n",
      "Requirement already satisfied: six>=1.5 in c:\\users\\kumar\\appdata\\local\\programs\\python\\python313\\lib\\site-packages (from python-dateutil>=2.8.2->pandas>=2.2.2->camelot-py[cv]) (1.17.0)\n",
      "Requirement already satisfied: pycparser in c:\\users\\kumar\\appdata\\local\\programs\\python\\python313\\lib\\site-packages (from cffi>=1.14->cryptography>=36.0.0->pdfminer-six>=20240706->camelot-py[cv]) (2.22)\n",
      "Downloading chardet-5.2.0-py3-none-any.whl (199 kB)\n",
      "Downloading click-8.2.1-py3-none-any.whl (102 kB)\n",
      "Downloading opencv_python_headless-4.12.0.88-cp37-abi3-win_amd64.whl (38.9 MB)\n",
      "   ---------------------------------------- 0.0/38.9 MB ? eta -:--:--\n",
      "    --------------------------------------- 0.8/38.9 MB 6.4 MB/s eta 0:00:06\n",
      "   - -------------------------------------- 1.8/38.9 MB 4.5 MB/s eta 0:00:09\n",
      "   -- ------------------------------------- 2.1/38.9 MB 3.4 MB/s eta 0:00:11\n",
      "   --- ------------------------------------ 3.7/38.9 MB 4.2 MB/s eta 0:00:09\n",
      "   ---- ----------------------------------- 4.5/38.9 MB 4.1 MB/s eta 0:00:09\n",
      "   ----- ---------------------------------- 5.2/38.9 MB 4.1 MB/s eta 0:00:09\n",
      "   ------ --------------------------------- 6.0/38.9 MB 4.0 MB/s eta 0:00:09\n",
      "   ------- -------------------------------- 6.8/38.9 MB 4.0 MB/s eta 0:00:08\n",
      "   ------- -------------------------------- 7.6/38.9 MB 4.0 MB/s eta 0:00:08\n",
      "   -------- ------------------------------- 8.4/38.9 MB 4.0 MB/s eta 0:00:08\n",
      "   --------- ------------------------------ 9.2/38.9 MB 4.0 MB/s eta 0:00:08\n",
      "   ---------- ----------------------------- 10.2/38.9 MB 4.0 MB/s eta 0:00:08\n",
      "   ----------- ---------------------------- 11.0/38.9 MB 4.0 MB/s eta 0:00:08\n",
      "   ------------ --------------------------- 11.8/38.9 MB 4.0 MB/s eta 0:00:07\n",
      "   ------------ --------------------------- 12.6/38.9 MB 4.0 MB/s eta 0:00:07\n",
      "   ------------- -------------------------- 13.4/38.9 MB 3.9 MB/s eta 0:00:07\n",
      "   -------------- ------------------------- 14.2/38.9 MB 3.9 MB/s eta 0:00:07\n",
      "   --------------- ------------------------ 14.9/38.9 MB 3.9 MB/s eta 0:00:07\n",
      "   ---------------- ----------------------- 16.0/38.9 MB 3.9 MB/s eta 0:00:06\n",
      "   ----------------- ---------------------- 16.8/38.9 MB 3.9 MB/s eta 0:00:06\n",
      "   ----------------- ---------------------- 17.0/38.9 MB 3.9 MB/s eta 0:00:06\n",
      "   ------------------ --------------------- 18.4/38.9 MB 3.9 MB/s eta 0:00:06\n",
      "   ------------------- -------------------- 18.9/38.9 MB 3.9 MB/s eta 0:00:06\n",
      "   -------------------- ------------------- 19.7/38.9 MB 3.9 MB/s eta 0:00:05\n",
      "   --------------------- ------------------ 20.4/38.9 MB 3.9 MB/s eta 0:00:05\n",
      "   --------------------- ------------------ 21.2/38.9 MB 3.8 MB/s eta 0:00:05\n",
      "   ---------------------- ----------------- 21.8/38.9 MB 3.8 MB/s eta 0:00:05\n",
      "   ----------------------- ---------------- 22.5/38.9 MB 3.8 MB/s eta 0:00:05\n",
      "   ----------------------- ---------------- 23.3/38.9 MB 3.8 MB/s eta 0:00:05\n",
      "   ------------------------ --------------- 24.1/38.9 MB 3.8 MB/s eta 0:00:04\n",
      "   ------------------------- -------------- 24.6/38.9 MB 3.8 MB/s eta 0:00:04\n",
      "   -------------------------- ------------- 25.4/38.9 MB 3.8 MB/s eta 0:00:04\n",
      "   -------------------------- ------------- 26.2/38.9 MB 3.7 MB/s eta 0:00:04\n",
      "   --------------------------- ------------ 27.0/38.9 MB 3.7 MB/s eta 0:00:04\n",
      "   ---------------------------- ----------- 27.8/38.9 MB 3.7 MB/s eta 0:00:03\n",
      "   ----------------------------- ---------- 28.6/38.9 MB 3.7 MB/s eta 0:00:03\n",
      "   ------------------------------ --------- 29.4/38.9 MB 3.7 MB/s eta 0:00:03\n",
      "   ------------------------------ --------- 30.1/38.9 MB 3.7 MB/s eta 0:00:03\n",
      "   ------------------------------- -------- 30.7/38.9 MB 3.7 MB/s eta 0:00:03\n",
      "   -------------------------------- ------- 31.7/38.9 MB 3.7 MB/s eta 0:00:02\n",
      "   --------------------------------- ------ 32.5/38.9 MB 3.7 MB/s eta 0:00:02\n",
      "   --------------------------------- ------ 33.0/38.9 MB 3.7 MB/s eta 0:00:02\n",
      "   ---------------------------------- ----- 33.8/38.9 MB 3.7 MB/s eta 0:00:02\n",
      "   ----------------------------------- ---- 34.6/38.9 MB 3.7 MB/s eta 0:00:02\n",
      "   ------------------------------------ --- 35.4/38.9 MB 3.7 MB/s eta 0:00:01\n",
      "   ------------------------------------- -- 36.2/38.9 MB 3.7 MB/s eta 0:00:01\n",
      "   ------------------------------------- -- 37.0/38.9 MB 3.7 MB/s eta 0:00:01\n",
      "   -------------------------------------- - 37.7/38.9 MB 3.7 MB/s eta 0:00:01\n",
      "   ---------------------------------------  38.5/38.9 MB 3.7 MB/s eta 0:00:01\n",
      "   ---------------------------------------  38.8/38.9 MB 3.7 MB/s eta 0:00:01\n",
      "   ---------------------------------------- 38.9/38.9 MB 3.7 MB/s eta 0:00:00\n",
      "Downloading numpy-2.2.6-cp313-cp313-win_amd64.whl (12.6 MB)\n",
      "   ---------------------------------------- 0.0/12.6 MB ? eta -:--:--\n",
      "   --- ------------------------------------ 1.0/12.6 MB 5.0 MB/s eta 0:00:03\n",
      "   ----- ---------------------------------- 1.8/12.6 MB 4.1 MB/s eta 0:00:03\n",
      "   -------- ------------------------------- 2.6/12.6 MB 3.9 MB/s eta 0:00:03\n",
      "   ---------- ----------------------------- 3.4/12.6 MB 3.9 MB/s eta 0:00:03\n",
      "   ------------- -------------------------- 4.2/12.6 MB 3.8 MB/s eta 0:00:03\n",
      "   --------------- ------------------------ 5.0/12.6 MB 3.8 MB/s eta 0:00:03\n",
      "   ----------------- ---------------------- 5.5/12.6 MB 3.8 MB/s eta 0:00:02\n",
      "   ------------------- -------------------- 6.3/12.6 MB 3.7 MB/s eta 0:00:02\n",
      "   ---------------------- ----------------- 7.1/12.6 MB 3.7 MB/s eta 0:00:02\n",
      "   ------------------------- -------------- 8.1/12.6 MB 3.7 MB/s eta 0:00:02\n",
      "   ---------------------------- ----------- 8.9/12.6 MB 3.7 MB/s eta 0:00:01\n",
      "   ------------------------------ --------- 9.7/12.6 MB 3.7 MB/s eta 0:00:01\n",
      "   --------------------------------- ------ 10.5/12.6 MB 3.7 MB/s eta 0:00:01\n",
      "   ----------------------------------- ---- 11.3/12.6 MB 3.7 MB/s eta 0:00:01\n",
      "   -------------------------------------- - 12.1/12.6 MB 3.7 MB/s eta 0:00:01\n",
      "   ---------------------------------------- 12.6/12.6 MB 3.7 MB/s eta 0:00:00\n",
      "Downloading pdfminer_six-20250506-py3-none-any.whl (5.6 MB)\n",
      "   ---------------------------------------- 0.0/5.6 MB ? eta -:--:--\n",
      "   ----- ---------------------------------- 0.8/5.6 MB 3.8 MB/s eta 0:00:02\n",
      "   ----------- ---------------------------- 1.6/5.6 MB 3.8 MB/s eta 0:00:02\n",
      "   ---------------- ----------------------- 2.4/5.6 MB 3.8 MB/s eta 0:00:01\n",
      "   ---------------------- ----------------- 3.1/5.6 MB 3.9 MB/s eta 0:00:01\n",
      "   ----------------------------- ---------- 4.2/5.6 MB 3.9 MB/s eta 0:00:01\n",
      "   --------------------------------- ------ 4.7/5.6 MB 3.9 MB/s eta 0:00:01\n",
      "   ---------------------------------------- 5.6/5.6 MB 3.8 MB/s eta 0:00:00\n",
      "Downloading pillow-11.3.0-cp313-cp313-win_amd64.whl (7.0 MB)\n",
      "   ---------------------------------------- 0.0/7.0 MB ? eta -:--:--\n",
      "   ---- ----------------------------------- 0.8/7.0 MB 4.1 MB/s eta 0:00:02\n",
      "   --------- ------------------------------ 1.6/7.0 MB 4.0 MB/s eta 0:00:02\n",
      "   ------------- -------------------------- 2.4/7.0 MB 3.8 MB/s eta 0:00:02\n",
      "   ------------------ --------------------- 3.1/7.0 MB 3.8 MB/s eta 0:00:02\n",
      "   ---------------------- ----------------- 3.9/7.0 MB 3.7 MB/s eta 0:00:01\n",
      "   ------------------------- -------------- 4.5/7.0 MB 3.6 MB/s eta 0:00:01\n",
      "   ------------------------------ --------- 5.2/7.0 MB 3.5 MB/s eta 0:00:01\n",
      "   --------------------------------- ------ 5.8/7.0 MB 3.5 MB/s eta 0:00:01\n",
      "   ------------------------------------- -- 6.6/7.0 MB 3.5 MB/s eta 0:00:01\n",
      "   ---------------------------------------- 7.0/7.0 MB 3.4 MB/s eta 0:00:00\n",
      "Downloading pypdf-5.9.0-py3-none-any.whl (313 kB)\n",
      "Downloading pypdfium2-4.30.0-py3-none-win_amd64.whl (2.9 MB)\n",
      "   ---------------------------------------- 0.0/2.9 MB ? eta -:--:--\n",
      "   ------- -------------------------------- 0.5/2.9 MB 3.7 MB/s eta 0:00:01\n",
      "   ------------------ --------------------- 1.3/2.9 MB 3.2 MB/s eta 0:00:01\n",
      "   ------------------------- -------------- 1.8/2.9 MB 3.1 MB/s eta 0:00:01\n",
      "   ------------------------------------ --- 2.6/2.9 MB 3.2 MB/s eta 0:00:01\n",
      "   ---------------------------------------- 2.9/2.9 MB 3.1 MB/s eta 0:00:00\n",
      "Downloading tabulate-0.9.0-py3-none-any.whl (35 kB)\n",
      "Downloading camelot_py-1.0.9-py3-none-any.whl (66 kB)\n",
      "Downloading cryptography-45.0.6-cp311-abi3-win_amd64.whl (3.4 MB)\n",
      "   ---------------------------------------- 0.0/3.4 MB ? eta -:--:--\n",
      "   --------- ------------------------------ 0.8/3.4 MB 3.5 MB/s eta 0:00:01\n",
      "   --------------- ------------------------ 1.3/3.4 MB 3.2 MB/s eta 0:00:01\n",
      "   ------------------------ --------------- 2.1/3.4 MB 3.2 MB/s eta 0:00:01\n",
      "   --------------------------------- ------ 2.9/3.4 MB 3.3 MB/s eta 0:00:01\n",
      "   ---------------------------------------- 3.4/3.4 MB 3.2 MB/s eta 0:00:00\n",
      "Installing collected packages: tabulate, pypdfium2, pypdf, pillow, numpy, click, chardet, opencv-python-headless, cryptography, pdfminer-six, camelot-py\n",
      "  Attempting uninstall: numpy\n",
      "    Found existing installation: numpy 2.3.2\n",
      "    Uninstalling numpy-2.3.2:\n",
      "      Successfully uninstalled numpy-2.3.2\n",
      "Successfully installed camelot-py-1.0.9 chardet-5.2.0 click-8.2.1 cryptography-45.0.6 numpy-2.2.6 opencv-python-headless-4.12.0.88 pdfminer-six-20250506 pillow-11.3.0 pypdf-5.9.0 pypdfium2-4.30.0 tabulate-0.9.0\n"
     ]
    },
    {
     "name": "stderr",
     "output_type": "stream",
     "text": [
      "WARNING: camelot-py 1.0.9 does not provide the extra 'cv'\n",
      "  WARNING: Failed to remove contents in a temporary directory 'C:\\Users\\kumar\\AppData\\Local\\Programs\\Python\\Python313\\Lib\\site-packages\\~umpy.libs'.\n",
      "  You can safely remove it manually.\n",
      "  WARNING: Failed to remove contents in a temporary directory 'C:\\Users\\kumar\\AppData\\Local\\Programs\\Python\\Python313\\Lib\\site-packages\\~umpy'.\n",
      "  You can safely remove it manually.\n",
      "\n",
      "[notice] A new release of pip is available: 25.0.1 -> 25.2\n",
      "[notice] To update, run: python.exe -m pip install --upgrade pip\n"
     ]
    }
   ],
   "source": [
    "!pip install \"camelot-py[cv]\"\n"
   ]
  },
  {
   "cell_type": "code",
   "execution_count": 8,
   "id": "8842375d-16e6-4046-9ff0-8974e57457b2",
   "metadata": {},
   "outputs": [],
   "source": [
    "import camelot"
   ]
  },
  {
   "cell_type": "code",
   "execution_count": 9,
   "id": "8b80cb11-bc31-4968-95a7-69165950e1ae",
   "metadata": {},
   "outputs": [],
   "source": [
    "tables=camelot.read_pdf('table.pdf',pages='1')"
   ]
  },
  {
   "cell_type": "code",
   "execution_count": 10,
   "id": "d9997883-692b-48f6-a49b-cd1321bcddcd",
   "metadata": {},
   "outputs": [
    {
     "name": "stdout",
     "output_type": "stream",
     "text": [
      "<TableList n=1>\n"
     ]
    }
   ],
   "source": [
    "print(tables)"
   ]
  },
  {
   "cell_type": "code",
   "execution_count": 11,
   "id": "1fb32f1a-de60-4ba2-9736-5d872cd0ce2f",
   "metadata": {},
   "outputs": [],
   "source": [
    "tables.export('table.csv', f='csv', compress=True)\n",
    "tables[0].to_csv('table.csv')"
   ]
  },
  {
   "cell_type": "code",
   "execution_count": null,
   "id": "b06f2571-7d80-4bae-8bec-51e3a2fd4e39",
   "metadata": {},
   "outputs": [],
   "source": []
  }
 ],
 "metadata": {
  "kernelspec": {
   "display_name": "Python 3 (ipykernel)",
   "language": "python",
   "name": "python3"
  },
  "language_info": {
   "codemirror_mode": {
    "name": "ipython",
    "version": 3
   },
   "file_extension": ".py",
   "mimetype": "text/x-python",
   "name": "python",
   "nbconvert_exporter": "python",
   "pygments_lexer": "ipython3",
   "version": "3.13.3"
  }
 },
 "nbformat": 4,
 "nbformat_minor": 5
}
